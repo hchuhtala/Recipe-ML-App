{
 "cells": [
  {
   "cell_type": "code",
   "execution_count": 5,
   "metadata": {
    "scrolled": true
   },
   "outputs": [],
   "source": [
    "import plotly\n",
    "import seaborn as sns\n",
    "# from matplotlib import pyplot as plt\n",
    "import matplotlib.pyplot as plt\n",
    "\n",
    "%matplotlib inline"
   ]
  },
  {
   "cell_type": "markdown",
   "metadata": {},
   "source": [
    "#todo: \n",
    "csv for each cuisine, \n",
    "graphing in this enviro, (run other pyplot examples, see if they work, what do they import?)\n",
    "logistic regession, \n",
    "taking spaces out of middle (replace with underscore)\n",
    "display notebook on webpage (git hub link)"
   ]
  },
  {
   "cell_type": "code",
   "execution_count": 10,
   "metadata": {},
   "outputs": [],
   "source": [
    "# import matplotlib.pyplot as plt\n",
    "# from sklearn.neighbors import KNeighborsClassifier\n",
    "import pandas as pd\n",
    "import os\n",
    "import numpy as np"
   ]
  },
  {
   "cell_type": "code",
   "execution_count": 21,
   "metadata": {},
   "outputs": [
    {
     "data": {
      "text/html": [
       "<div>\n",
       "<style scoped>\n",
       "    .dataframe tbody tr th:only-of-type {\n",
       "        vertical-align: middle;\n",
       "    }\n",
       "\n",
       "    .dataframe tbody tr th {\n",
       "        vertical-align: top;\n",
       "    }\n",
       "\n",
       "    .dataframe thead th {\n",
       "        text-align: right;\n",
       "    }\n",
       "</style>\n",
       "<table border=\"1\" class=\"dataframe\">\n",
       "  <thead>\n",
       "    <tr style=\"text-align: right;\">\n",
       "      <th></th>\n",
       "      <th>id</th>\n",
       "      <th>cuisine</th>\n",
       "      <th>text</th>\n",
       "      <th>category_id</th>\n",
       "    </tr>\n",
       "  </thead>\n",
       "  <tbody>\n",
       "    <tr>\n",
       "      <th>0</th>\n",
       "      <td>10259</td>\n",
       "      <td>greek</td>\n",
       "      <td>romaine_lettuce,black_olives,grape_tomatoes,ga...</td>\n",
       "      <td>0</td>\n",
       "    </tr>\n",
       "    <tr>\n",
       "      <th>1</th>\n",
       "      <td>25693</td>\n",
       "      <td>southern_us</td>\n",
       "      <td>plain_flour,ground_pepper,salt,tomatoes,ground...</td>\n",
       "      <td>1</td>\n",
       "    </tr>\n",
       "    <tr>\n",
       "      <th>2</th>\n",
       "      <td>22213</td>\n",
       "      <td>indian</td>\n",
       "      <td>water,vegetable_oil,wheat,salt</td>\n",
       "      <td>2</td>\n",
       "    </tr>\n",
       "    <tr>\n",
       "      <th>3</th>\n",
       "      <td>13162</td>\n",
       "      <td>indian</td>\n",
       "      <td>black_pepper,shallots,cornflour,cayenne_pepper...</td>\n",
       "      <td>2</td>\n",
       "    </tr>\n",
       "    <tr>\n",
       "      <th>4</th>\n",
       "      <td>42779</td>\n",
       "      <td>spanish</td>\n",
       "      <td>olive_oil,salt,medium_shrimp,pepper,garlic,cho...</td>\n",
       "      <td>3</td>\n",
       "    </tr>\n",
       "  </tbody>\n",
       "</table>\n",
       "</div>"
      ],
      "text/plain": [
       "      id      cuisine                                               text  \\\n",
       "0  10259        greek  romaine_lettuce,black_olives,grape_tomatoes,ga...   \n",
       "1  25693  southern_us  plain_flour,ground_pepper,salt,tomatoes,ground...   \n",
       "2  22213       indian                     water,vegetable_oil,wheat,salt   \n",
       "3  13162       indian  black_pepper,shallots,cornflour,cayenne_pepper...   \n",
       "4  42779      spanish  olive_oil,salt,medium_shrimp,pepper,garlic,cho...   \n",
       "\n",
       "   category_id  \n",
       "0            0  \n",
       "1            1  \n",
       "2            2  \n",
       "3            2  \n",
       "4            3  "
      ]
     },
     "execution_count": 21,
     "metadata": {},
     "output_type": "execute_result"
    }
   ],
   "source": [
    "#load clean CSVs \n",
    "train_clean_df = pd.read_csv('train_clean_data.csv')\n",
    "train_clean_df.head()"
   ]
  },
  {
   "cell_type": "markdown",
   "metadata": {},
   "source": [
    "Machine Learning:"
   ]
  },
  {
   "cell_type": "code",
   "execution_count": 22,
   "metadata": {},
   "outputs": [],
   "source": [
    "from sklearn.feature_extraction.text import TfidfVectorizer \n",
    " \n",
    "tfidf_vectorizer=TfidfVectorizer(sublinear_tf=True, min_df=5, norm='l2', encoding='latin-1', stop_words='english') \n",
    "# tfidf_vectorizer=TfidfVectorizer(sublinear_tf=True, min_df=5, norm='l2', encoding='latin-1', ngram_range=(1, 2), stop_words='english') \n",
    "# just send in all your docs here \n",
    "tfidf_vectorizer_vectors=tfidf_vectorizer.fit_transform(train_clean_df.text)\n",
    "\n",
    "# get the first vector out (for the first document) \n",
    "first_vector_tfidfvectorizer = tfidf_vectorizer_vectors[0] \n"
   ]
  },
  {
   "cell_type": "code",
   "execution_count": 23,
   "metadata": {},
   "outputs": [
    {
     "data": {
      "text/html": [
       "<div>\n",
       "<style scoped>\n",
       "    .dataframe tbody tr th:only-of-type {\n",
       "        vertical-align: middle;\n",
       "    }\n",
       "\n",
       "    .dataframe tbody tr th {\n",
       "        vertical-align: top;\n",
       "    }\n",
       "\n",
       "    .dataframe thead th {\n",
       "        text-align: right;\n",
       "    }\n",
       "</style>\n",
       "<table border=\"1\" class=\"dataframe\">\n",
       "  <thead>\n",
       "    <tr style=\"text-align: right;\">\n",
       "      <th></th>\n",
       "      <th>tfidf</th>\n",
       "    </tr>\n",
       "  </thead>\n",
       "  <tbody>\n",
       "    <tr>\n",
       "      <th>garbanzo_beans</th>\n",
       "      <td>0.417649</td>\n",
       "    </tr>\n",
       "    <tr>\n",
       "      <th>seasoning</th>\n",
       "      <td>0.408356</td>\n",
       "    </tr>\n",
       "    <tr>\n",
       "      <th>black_olives</th>\n",
       "      <td>0.374864</td>\n",
       "    </tr>\n",
       "    <tr>\n",
       "      <th>grape_tomatoes</th>\n",
       "      <td>0.372952</td>\n",
       "    </tr>\n",
       "    <tr>\n",
       "      <th>romaine_lettuce</th>\n",
       "      <td>0.362357</td>\n",
       "    </tr>\n",
       "    <tr>\n",
       "      <th>feta_cheese_crumbles</th>\n",
       "      <td>0.346146</td>\n",
       "    </tr>\n",
       "    <tr>\n",
       "      <th>purple_onion</th>\n",
       "      <td>0.247102</td>\n",
       "    </tr>\n",
       "    <tr>\n",
       "      <th>pepper</th>\n",
       "      <td>0.198735</td>\n",
       "    </tr>\n",
       "    <tr>\n",
       "      <th>garlic</th>\n",
       "      <td>0.165902</td>\n",
       "    </tr>\n",
       "    <tr>\n",
       "      <th>pickled_vegetables</th>\n",
       "      <td>0.000000</td>\n",
       "    </tr>\n",
       "  </tbody>\n",
       "</table>\n",
       "</div>"
      ],
      "text/plain": [
       "                         tfidf\n",
       "garbanzo_beans        0.417649\n",
       "seasoning             0.408356\n",
       "black_olives          0.374864\n",
       "grape_tomatoes        0.372952\n",
       "romaine_lettuce       0.362357\n",
       "feta_cheese_crumbles  0.346146\n",
       "purple_onion          0.247102\n",
       "pepper                0.198735\n",
       "garlic                0.165902\n",
       "pickled_vegetables    0.000000"
      ]
     },
     "execution_count": 23,
     "metadata": {},
     "output_type": "execute_result"
    }
   ],
   "source": [
    "# place tf-idf values in a pandas data frame \n",
    "df = pd.DataFrame(first_vector_tfidfvectorizer.T.todense(), index=tfidf_vectorizer.get_feature_names(), columns=[\"tfidf\"])\n",
    "df = df.sort_values(by=[\"tfidf\"],ascending=False)\n",
    "df.head(10)"
   ]
  },
  {
   "cell_type": "code",
   "execution_count": 24,
   "metadata": {},
   "outputs": [
    {
     "data": {
      "text/plain": [
       "(36716, 3262)"
      ]
     },
     "execution_count": 24,
     "metadata": {},
     "output_type": "execute_result"
    }
   ],
   "source": [
    "features = tfidf_vectorizer.fit_transform(train_clean_df.text).toarray()\n",
    "labels = train_clean_df.category_id\n",
    "features.shape"
   ]
  },
  {
   "cell_type": "markdown",
   "metadata": {},
   "source": [
    "Now, each of 4569 consumer complaint narratives is represented by 12633 features, representing the tf-idf score for different unigrams and bigrams."
   ]
  },
  {
   "cell_type": "code",
   "execution_count": 25,
   "metadata": {},
   "outputs": [
    {
     "data": {
      "text/html": [
       "<div>\n",
       "<style scoped>\n",
       "    .dataframe tbody tr th:only-of-type {\n",
       "        vertical-align: middle;\n",
       "    }\n",
       "\n",
       "    .dataframe tbody tr th {\n",
       "        vertical-align: top;\n",
       "    }\n",
       "\n",
       "    .dataframe thead th {\n",
       "        text-align: right;\n",
       "    }\n",
       "</style>\n",
       "<table border=\"1\" class=\"dataframe\">\n",
       "  <thead>\n",
       "    <tr style=\"text-align: right;\">\n",
       "      <th></th>\n",
       "      <th>id</th>\n",
       "      <th>cuisine</th>\n",
       "      <th>text</th>\n",
       "      <th>category_id</th>\n",
       "    </tr>\n",
       "  </thead>\n",
       "  <tbody>\n",
       "    <tr>\n",
       "      <th>0</th>\n",
       "      <td>10259</td>\n",
       "      <td>greek</td>\n",
       "      <td>romaine_lettuce,black_olives,grape_tomatoes,ga...</td>\n",
       "      <td>0</td>\n",
       "    </tr>\n",
       "    <tr>\n",
       "      <th>1</th>\n",
       "      <td>25693</td>\n",
       "      <td>southern_us</td>\n",
       "      <td>plain_flour,ground_pepper,salt,tomatoes,ground...</td>\n",
       "      <td>1</td>\n",
       "    </tr>\n",
       "    <tr>\n",
       "      <th>2</th>\n",
       "      <td>22213</td>\n",
       "      <td>indian</td>\n",
       "      <td>water,vegetable_oil,wheat,salt</td>\n",
       "      <td>2</td>\n",
       "    </tr>\n",
       "    <tr>\n",
       "      <th>3</th>\n",
       "      <td>13162</td>\n",
       "      <td>indian</td>\n",
       "      <td>black_pepper,shallots,cornflour,cayenne_pepper...</td>\n",
       "      <td>2</td>\n",
       "    </tr>\n",
       "    <tr>\n",
       "      <th>4</th>\n",
       "      <td>42779</td>\n",
       "      <td>spanish</td>\n",
       "      <td>olive_oil,salt,medium_shrimp,pepper,garlic,cho...</td>\n",
       "      <td>3</td>\n",
       "    </tr>\n",
       "  </tbody>\n",
       "</table>\n",
       "</div>"
      ],
      "text/plain": [
       "      id      cuisine                                               text  \\\n",
       "0  10259        greek  romaine_lettuce,black_olives,grape_tomatoes,ga...   \n",
       "1  25693  southern_us  plain_flour,ground_pepper,salt,tomatoes,ground...   \n",
       "2  22213       indian                     water,vegetable_oil,wheat,salt   \n",
       "3  13162       indian  black_pepper,shallots,cornflour,cayenne_pepper...   \n",
       "4  42779      spanish  olive_oil,salt,medium_shrimp,pepper,garlic,cho...   \n",
       "\n",
       "   category_id  \n",
       "0            0  \n",
       "1            1  \n",
       "2            2  \n",
       "3            2  \n",
       "4            3  "
      ]
     },
     "execution_count": 25,
     "metadata": {},
     "output_type": "execute_result"
    }
   ],
   "source": [
    "# train_clean_df['category_id'] = train_clean_df['cuisine'].factorize()[0]\n",
    "category_id_df = train_clean_df[['cuisine', 'category_id']].drop_duplicates().sort_values('category_id')\n",
    "category_to_id = dict(category_id_df.values)\n",
    "id_to_category = dict(category_id_df[['category_id', 'cuisine']].values)\n",
    "train_clean_df.head()"
   ]
  },
  {
   "cell_type": "code",
   "execution_count": 64,
   "metadata": {},
   "outputs": [],
   "source": [
    "# for cuisine, category_id in sorted(category_to_id.items()):\n",
    "#     features_chi2 = chi2(features, labels == category_id)\n",
    "#     indices = np.argsort(features_chi2[0])\n",
    "#     feature_names = np.array(tfidf_vectorizer.get_feature_names())[indices]\n",
    "#     unigrams = [v for v in feature_names if len(v.split(' ')) == 1]\n",
    "#     bigrams = [v for v in feature_names if len(v.split(' ')) == 2]"
   ]
  },
  {
   "cell_type": "code",
   "execution_count": 60,
   "metadata": {},
   "outputs": [
    {
     "name": "stdout",
     "output_type": "stream",
     "text": [
      "british:['stilton_cheese', 'beef_drippings']\n",
      "cajun_creole:['andouille_sausage', 'cajun_seasoning']\n",
      "chinese:['corn_starch', 'soy_sauce']\n",
      "french:['gruyere_cheese', 'large_egg_yolks']\n",
      "greek:['feta_cheese', 'feta_cheese_crumbles']\n",
      "indian:['ground_turmeric', 'garam_masala']\n",
      "irish:['corned_beef', 'irish_whiskey']\n",
      "italian:['fresh_basil', 'grated_parmesan_cheese']\n",
      "japanese:['sake', 'mirin']\n",
      "korean:['kimchi', 'gochujang_base']\n",
      "mexican:['salsa', 'corn_tortillas']\n",
      "southern_us:['baking_powder', 'buttermilk']\n",
      "spanish:['saffron_threads', 'spanish_chorizo']\n",
      "thai:['coconut_milk', 'fish_sauce']\n",
      "vietnamese:['rice_vermicelli', 'fish_sauce']\n"
     ]
    }
   ],
   "source": [
    "from sklearn.feature_selection import chi2\n",
    "# import numpy as np\n",
    "\n",
    "N = 2\n",
    "for cuisine, category_id in sorted(category_to_id.items()):\n",
    "    features_chi2 = chi2(features, labels == category_id)\n",
    "    indices = np.argsort(features_chi2[0])\n",
    "    feature_names = np.array(tfidf_vectorizer.get_feature_names())[indices]\n",
    "    unigrams = [v for v in feature_names if len(v.split(' ')) == 1]\n",
    "    list = unigrams[-N:]\n",
    "    cuisine_df = pd.DataFrame(unigrams[-N:], columns=['Ingredient'])\n",
    "    data_folder = os.path.join(\"cuisine_top_ingredients_data\")\n",
    "    filename = os.path.join(data_folder, cuisine + '_ingredients.csv')\n",
    "    cuisine_df.to_csv(filename, index=False)\n",
    "    print (cuisine + ':' + str(list))\n",
    "print(\"csv's saved\")"
   ]
  },
  {
   "cell_type": "markdown",
   "metadata": {},
   "source": [
    "detour for matching with spoonacular api"
   ]
  },
  {
   "cell_type": "code",
   "execution_count": 61,
   "metadata": {},
   "outputs": [
    {
     "data": {
      "text/html": [
       "<div>\n",
       "<style scoped>\n",
       "    .dataframe tbody tr th:only-of-type {\n",
       "        vertical-align: middle;\n",
       "    }\n",
       "\n",
       "    .dataframe tbody tr th {\n",
       "        vertical-align: top;\n",
       "    }\n",
       "\n",
       "    .dataframe thead th {\n",
       "        text-align: right;\n",
       "    }\n",
       "</style>\n",
       "<table border=\"1\" class=\"dataframe\">\n",
       "  <thead>\n",
       "    <tr style=\"text-align: right;\">\n",
       "      <th></th>\n",
       "      <th>Ingredient</th>\n",
       "    </tr>\n",
       "  </thead>\n",
       "  <tbody>\n",
       "    <tr>\n",
       "      <th>0</th>\n",
       "      <td>rice_vermicelli</td>\n",
       "    </tr>\n",
       "    <tr>\n",
       "      <th>1</th>\n",
       "      <td>fish_sauce</td>\n",
       "    </tr>\n",
       "  </tbody>\n",
       "</table>\n",
       "</div>"
      ],
      "text/plain": [
       "        Ingredient\n",
       "0  rice_vermicelli\n",
       "1       fish_sauce"
      ]
     },
     "execution_count": 61,
     "metadata": {},
     "output_type": "execute_result"
    }
   ],
   "source": [
    "cuisine_df"
   ]
  },
  {
   "cell_type": "code",
   "execution_count": null,
   "metadata": {},
   "outputs": [],
   "source": [
    "#load spoon CSVs \n",
    "train_clean_df = pd.read_csv('train_clean_data.csv')\n",
    "train_clean_df.head()"
   ]
  },
  {
   "cell_type": "code",
   "execution_count": null,
   "metadata": {},
   "outputs": [],
   "source": []
  },
  {
   "cell_type": "markdown",
   "metadata": {},
   "source": [
    "end detour"
   ]
  },
  {
   "cell_type": "code",
   "execution_count": 27,
   "metadata": {},
   "outputs": [
    {
     "name": "stdout",
     "output_type": "stream",
     "text": [
      "# 'british':\n",
      "  . Most correlated:\n",
      ". golden_syrup\n",
      ". stilton_cheese\n",
      ". beef_drippings\n",
      "# 'cajun_creole':\n",
      "  . Most correlated:\n",
      ". creole_seasoning\n",
      ". andouille_sausage\n",
      ". cajun_seasoning\n",
      "# 'chinese':\n",
      "  . Most correlated:\n",
      ". sesame_oil\n",
      ". corn_starch\n",
      ". soy_sauce\n",
      "# 'french':\n",
      "  . Most correlated:\n",
      ". unsalted_butter\n",
      ". gruyere_cheese\n",
      ". large_egg_yolks\n",
      "# 'greek':\n",
      "  . Most correlated:\n",
      ". fresh_dill\n",
      ". feta_cheese\n",
      ". feta_cheese_crumbles\n",
      "# 'indian':\n",
      "  . Most correlated:\n",
      ". cumin_seed\n",
      ". ground_turmeric\n",
      ". garam_masala\n",
      "# 'irish':\n",
      "  . Most correlated:\n",
      ". guinness_beer\n",
      ". corned_beef\n",
      ". irish_whiskey\n",
      "# 'italian':\n",
      "  . Most correlated:\n",
      ". parmesan_cheese\n",
      ". fresh_basil\n",
      ". grated_parmesan_cheese\n",
      "# 'japanese':\n",
      "  . Most correlated:\n",
      ". dashi\n",
      ". sake\n",
      ". mirin\n",
      "# 'korean':\n",
      "  . Most correlated:\n",
      ". sesame_seeds\n",
      ". kimchi\n",
      ". gochujang_base\n",
      "# 'mexican':\n",
      "  . Most correlated:\n",
      ". avocado\n",
      ". salsa\n",
      ". corn_tortillas\n",
      "# 'southern_us':\n",
      "  . Most correlated:\n",
      ". grits\n",
      ". baking_powder\n",
      ". buttermilk\n",
      "# 'spanish':\n",
      "  . Most correlated:\n",
      ". sherry_vinegar\n",
      ". saffron_threads\n",
      ". spanish_chorizo\n",
      "# 'thai':\n",
      "  . Most correlated:\n",
      ". thai_red_curry_paste\n",
      ". coconut_milk\n",
      ". fish_sauce\n",
      "# 'vietnamese':\n",
      "  . Most correlated:\n",
      ". rice_paper\n",
      ". rice_vermicelli\n",
      ". fish_sauce\n"
     ]
    }
   ],
   "source": [
    "from sklearn.feature_selection import chi2\n",
    "import numpy as np\n",
    "N = 3\n",
    "for cuisine, category_id in sorted(category_to_id.items()):\n",
    "    features_chi2 = chi2(features, labels == category_id)\n",
    "    indices = np.argsort(features_chi2[0])\n",
    "    feature_names = np.array(tfidf_vectorizer.get_feature_names())[indices]\n",
    "    unigrams = [v for v in feature_names if len(v.split(' ')) == 1]\n",
    "#     bigrams = [v for v in feature_names if len(v.split(' ')) == 2]\n",
    "    print(\"# '{}':\".format(cuisine))\n",
    "    print(\"  . Most correlated:\\n. {}\".format('\\n. '.join(unigrams[-N:])))\n",
    "#     print(\"  . Most correlated bigrams:\\n. {}\".format('\\n. '.join(bigrams[-N:])))"
   ]
  },
  {
   "cell_type": "markdown",
   "metadata": {},
   "source": [
    "Model:"
   ]
  },
  {
   "cell_type": "code",
   "execution_count": 30,
   "metadata": {},
   "outputs": [],
   "source": [
    "from sklearn.model_selection import train_test_split\n",
    "from sklearn.feature_extraction.text import CountVectorizer\n",
    "from sklearn.feature_extraction.text import TfidfTransformer\n",
    "from sklearn.naive_bayes import MultinomialNB\n",
    "X_train, X_test, y_train, y_test = train_test_split(train_clean_df['text'], train_clean_df['cuisine'], random_state = 0)\n",
    "count_vect = CountVectorizer()\n",
    "X_train_counts = count_vect.fit_transform(X_train)\n",
    "tfidf_transformer = TfidfTransformer()\n",
    "X_train_tfidf = tfidf_transformer.fit_transform(X_train_counts)\n",
    "clf = MultinomialNB().fit(X_train_tfidf, y_train)"
   ]
  },
  {
   "cell_type": "code",
   "execution_count": 40,
   "metadata": {},
   "outputs": [],
   "source": [
    "from sklearn.linear_model import LogisticRegression\n",
    "from sklearn.ensemble import RandomForestClassifier\n",
    "from sklearn.svm import LinearSVC\n",
    "from sklearn.model_selection import cross_val_score\n",
    "models = [\n",
    "    RandomForestClassifier(n_estimators=200, max_depth=3, random_state=0)\n",
    "    ,LinearSVC()\n",
    "    ,MultinomialNB()\n",
    "#     ,LogisticRegression(random_state=0) #gradient decent wasn't able to converg given these inputs\n",
    "]\n",
    "CV = 5 #crossvalidation\n",
    "cv_df = pd.DataFrame(index=range(CV * len(models)))\n",
    "entries = []"
   ]
  },
  {
   "cell_type": "code",
   "execution_count": 41,
   "metadata": {},
   "outputs": [],
   "source": [
    "for model in models:\n",
    "    model_name = model.__class__.__name__\n",
    "    accuracies = cross_val_score(model, features, labels, scoring='accuracy', cv=CV)\n",
    "    for fold_idx, accuracy in enumerate(accuracies):\n",
    "        entries.append((model_name, fold_idx, accuracy))\n",
    "    print(\"done with\" + model)\n",
    "cv_df = pd.DataFrame(entries, columns=['model_name', 'fold_idx', 'accuracy'])"
   ]
  },
  {
   "cell_type": "code",
   "execution_count": 42,
   "metadata": {},
   "outputs": [
    {
     "data": {
      "image/png": "[encoded data removed]",
      "text/plain": [
       "<Figure size 432x288 with 1 Axes>"
      ]
     },
     "metadata": {
      "needs_background": "light"
     },
     "output_type": "display_data"
    }
   ],
   "source": [
    "sns.boxplot(x='model_name', y='accuracy', data=cv_df)\n",
    "sns.stripplot(x='model_name', y='accuracy', data=cv_df, \n",
    "              size=8, jitter=True, edgecolor=\"gray\", linewidth=2)\n",
    "plt.show()"
   ]
  },
  {
   "cell_type": "code",
   "execution_count": 43,
   "metadata": {},
   "outputs": [
    {
     "data": {
      "text/plain": [
       "model_name\n",
       "LinearSVC                 0.802457\n",
       "MultinomialNB             0.728620\n",
       "RandomForestClassifier    0.337564\n",
       "Name: accuracy, dtype: float64"
      ]
     },
     "execution_count": 43,
     "metadata": {},
     "output_type": "execute_result"
    }
   ],
   "source": [
    "cv_df.groupby('model_name').accuracy.mean()"
   ]
  },
  {
   "cell_type": "code",
   "execution_count": null,
   "metadata": {},
   "outputs": [],
   "source": []
  }
 ],
 "metadata": {
  "kernelspec": {
   "display_name": "Python 3",
   "language": "python",
   "name": "python3"
  },
  "language_info": {
   "codemirror_mode": {
    "name": "ipython",
    "version": 3
   },
   "file_extension": ".py",
   "mimetype": "text/x-python",
   "name": "python",
   "nbconvert_exporter": "python",
   "pygments_lexer": "ipython3",
   "version": "3.6.10"
  },
  "varInspector": {
   "cols": {
    "lenName": 16,
    "lenType": 16,
    "lenVar": 40
   },
   "kernels_config": {
    "python": {
     "delete_cmd_postfix": "",
     "delete_cmd_prefix": "del ",
     "library": "var_list.py",
     "varRefreshCmd": "print(var_dic_list())"
    },
    "r": {
     "delete_cmd_postfix": ") ",
     "delete_cmd_prefix": "rm(",
     "library": "var_list.r",
     "varRefreshCmd": "cat(var_dic_list()) "
    }
   },
   "types_to_exclude": [
    "module",
    "function",
    "builtin_function_or_method",
    "instance",
    "_Feature"
   ],
   "window_display": false
  }
 },
 "nbformat": 4,
 "nbformat_minor": 2
}
